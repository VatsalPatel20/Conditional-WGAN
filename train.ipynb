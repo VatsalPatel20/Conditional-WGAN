{
 "cells": [
  {
   "cell_type": "code",
   "execution_count": null,
   "id": "1491d5d9",
   "metadata": {},
   "outputs": [],
   "source": [
    "import numpy\n",
    "import torch\n",
    "import torch.nn as nn\n",
    "from CONFIGURATION import Data_Loader\n",
    "from DISCRIMINATOR import Discriminator\n",
    "from GENERATOR import Generator"
   ]
  },
  {
   "cell_type": "code",
   "execution_count": null,
   "id": "fd4efc66",
   "metadata": {},
   "outputs": [],
   "source": [
    "Img_size=64\n",
    "Generator_embedding_size=100\n",
    "latent_noise=100\n",
    "feature_g=16\n",
    "feture_d=16\n",
    "Learning_rate=1e-4\n",
    "Batch_size=128\n",
    "Num_classes=6\n",
    "Channel_img=3"
   ]
  },
  {
   "cell_type": "code",
   "execution_count": null,
   "id": "e33babd7",
   "metadata": {},
   "outputs": [],
   "source": [
    "generator=Generator(latent_noise,Channel_img,feature_g,Num_classes,Img_size,Generator_embedding_size)\n",
    "discriminator=Discriminator(Channel_img,feture_d,Num_classes,Img_size)"
   ]
  },
  {
   "cell_type": "code",
   "execution_count": null,
   "id": "449992c6",
   "metadata": {},
   "outputs": [],
   "source": [
    "opt_gen=torch.optim.Adam(generator.parameters(),Learning_rate)\n",
    "opt_dis=torch.optim.Adam(discriminator.parameters(),Learning_rate)"
   ]
  },
  {
   "cell_type": "code",
   "execution_count": null,
   "id": "b9cbc2ac",
   "metadata": {},
   "outputs": [],
   "source": [
    "step=0"
   ]
  },
  {
   "cell_type": "code",
   "execution_count": null,
   "id": "9b36dadf",
   "metadata": {},
   "outputs": [],
   "source": [
    "discriminator.train()\n",
    "generator.train()"
   ]
  },
  {
   "cell_type": "code",
   "execution_count": null,
   "id": "3412ea92",
   "metadata": {},
   "outputs": [],
   "source": [
    "for epoch in range(1,51):\n",
    "    for Image,label in Data_Loader:\n",
    "        noise=torch.randn(Batch_size,latent_noise,1,1)\n",
    "        fake=generator(noise,label)\n",
    "        disc_real=discriminator(Image,label).reshape(-1)\n",
    "        disc_fake=discriminator(fake,label).reshape(-1)\n",
    " \n",
    "        disc_loss=-(torch.mean(disc_real)-torch.mean(disc_fake))\n",
    "        discriminator.zero_grad()\n",
    "        disc_loss.backward(retain_graph=True)\n",
    "        opt_dis.step()\n",
    "        \n",
    "        gen_fake=discriminator(fake,label).reshape(-1)\n",
    "        loss_gen=-torch.mean(gen_fake)\n",
    "        generator.zero_grad()\n",
    "        loss_gen.backward()\n",
    "        opt_gen.step()\n",
    "        \n",
    "        print(f\"epoch - {epoch} , Discriminator Loss - {disc_loss} , Generator Loss - {loss_gen}\")\n",
    "        \n",
    "        with torch.no_grad():\n",
    "            fake=generator(noise,label)\n",
    "            step+=1"
   ]
  }
 ],
 "metadata": {
  "kernelspec": {
   "display_name": "Python 3 (ipykernel)",
   "language": "python",
   "name": "python3"
  },
  "language_info": {
   "codemirror_mode": {
    "name": "ipython",
    "version": 3
   },
   "file_extension": ".py",
   "mimetype": "text/x-python",
   "name": "python",
   "nbconvert_exporter": "python",
   "pygments_lexer": "ipython3",
   "version": "3.9.12"
  }
 },
 "nbformat": 4,
 "nbformat_minor": 5
}
