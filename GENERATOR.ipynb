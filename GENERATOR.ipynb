{
 "cells": [
  {
   "cell_type": "code",
   "execution_count": null,
   "id": "2808d596",
   "metadata": {},
   "outputs": [],
   "source": [
    "import torch\n",
    "import torch.nn as nn"
   ]
  },
  {
   "cell_type": "code",
   "execution_count": null,
   "id": "5febced8",
   "metadata": {},
   "outputs": [],
   "source": [
    "class Generator(nn.Module):\n",
    "    def __init__(self,latent_noise,channel_img,feature_g,num_classes,img_size,embedded_size):\n",
    "        super().__init__()\n",
    "        self.img_size=img_size\n",
    "        self.gen=nn.Sequential(\n",
    "                self._block(latent_noise+embedded_size,feature_g*16,4,1,0),\n",
    "                self._block(feature_g*16,feature_g*8,4,2,1),\n",
    "                self._block(feature_g*8,feature_g*4,4,2,1),\n",
    "                self._block(feature_g*4,feature_g*2,4,2,1),\n",
    "                nn.ConvTranspose2d(feature_g*2,channel_img,4,2,1),\n",
    "                nn.Tanh())\n",
    "        self.embed=nn.Embedding(num_classes,embedded_size)\n",
    "        \n",
    "    def _block(self,in_channel,out_channel,kernel,stride,padding):\n",
    "        return nn.Sequential(\n",
    "                nn.ConvTranspose2d(in_channel,out_channel,kernel,stride,padding),\n",
    "                nn.BatchNorm2d(out_channel),\n",
    "                nn.ReLU())\n",
    "    \n",
    "    def forward(self,x,labels):\n",
    "        embedding=self.embed(labels).unsqueeze(2).unsqueeze(3)\n",
    "        x=torch.cat([x,embedding],dim=1)\n",
    "        return self.gen(x)"
   ]
  },
  {
   "cell_type": "code",
   "execution_count": null,
   "id": "d375b2a7",
   "metadata": {},
   "outputs": [],
   "source": []
  }
 ],
 "metadata": {
  "kernelspec": {
   "display_name": "Python 3 (ipykernel)",
   "language": "python",
   "name": "python3"
  },
  "language_info": {
   "codemirror_mode": {
    "name": "ipython",
    "version": 3
   },
   "file_extension": ".py",
   "mimetype": "text/x-python",
   "name": "python",
   "nbconvert_exporter": "python",
   "pygments_lexer": "ipython3",
   "version": "3.9.12"
  }
 },
 "nbformat": 4,
 "nbformat_minor": 5
}
