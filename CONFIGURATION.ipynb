{
 "cells": [
  {
   "cell_type": "code",
   "execution_count": null,
   "id": "35bc921b",
   "metadata": {},
   "outputs": [],
   "source": [
    "import numpy\n",
    "import torch\n",
    "import torch.nn as nn\n",
    "from torch.utils.data import DataLoader,Dataset\n",
    "import torchvision\n",
    "from torchvision import transforms\n",
    "import os\n",
    "from PIL import Image\n",
    "import cv2"
   ]
  },
  {
   "cell_type": "code",
   "execution_count": null,
   "id": "251e3c65",
   "metadata": {},
   "outputs": [],
   "source": [
    "import random\n",
    "file_path=\"seg_train/seg_train/\"\n",
    "categories=['mountain','buildings','sea','street','glacier','forest']\n",
    "data=[]"
   ]
  },
  {
   "cell_type": "code",
   "execution_count": null,
   "id": "db5750ce",
   "metadata": {},
   "outputs": [],
   "source": [
    "transform=transforms.Compose([transforms.ToTensor(),transforms.Resize(64)])"
   ]
  },
  {
   "cell_type": "code",
   "execution_count": null,
   "id": "79c8cf9d",
   "metadata": {},
   "outputs": [],
   "source": [
    "for category in categories:\n",
    "    idx=categories.index(category)\n",
    "    img_path=os.path.join(file_path,category)\n",
    "    for img in os.listdir(img_path):\n",
    "        result=[idx]\n",
    "        pil_img=cv2.imread(os.path.join(img_path,img),cv2.IMREAD_COLOR)\n",
    "        resize_img=cv2.resize(pil_img,(Img_size,Img_size))\n",
    "        img_tensor=transform(pil_img)\n",
    "        result.append(img_tensor)\n",
    "        data.append(result)\n",
    "random.shuffle(data)"
   ]
  },
  {
   "cell_type": "code",
   "execution_count": null,
   "id": "95296ae1",
   "metadata": {},
   "outputs": [],
   "source": [
    "x=[]\n",
    "y=[]\n",
    "for i in data:\n",
    "    x.append(i[1])\n",
    "    y.append(i[0])"
   ]
  },
  {
   "cell_type": "code",
   "execution_count": null,
   "id": "feb2dad4",
   "metadata": {},
   "outputs": [],
   "source": [
    "class Image_Dataset(Dataset):\n",
    "    def __init__(self,x,y):\n",
    "        self.x=x\n",
    "        self.y=y\n",
    "    def __len__(self):\n",
    "        return len(self.x)\n",
    "    def __getitem__(self,index):\n",
    "        return self.x[index],self.y[index]"
   ]
  },
  {
   "cell_type": "code",
   "execution_count": null,
   "id": "a766f290",
   "metadata": {},
   "outputs": [],
   "source": [
    "Image_Data=Image_Dataset(x,y)"
   ]
  },
  {
   "cell_type": "code",
   "execution_count": null,
   "id": "fe539995",
   "metadata": {},
   "outputs": [],
   "source": [
    "Data_Loader=DataLoader(Image_Data,batch_size=128,shuffle=True)"
   ]
  },
  {
   "cell_type": "code",
   "execution_count": null,
   "id": "bdd6e30d",
   "metadata": {},
   "outputs": [],
   "source": []
  }
 ],
 "metadata": {
  "kernelspec": {
   "display_name": "Python 3 (ipykernel)",
   "language": "python",
   "name": "python3"
  },
  "language_info": {
   "codemirror_mode": {
    "name": "ipython",
    "version": 3
   },
   "file_extension": ".py",
   "mimetype": "text/x-python",
   "name": "python",
   "nbconvert_exporter": "python",
   "pygments_lexer": "ipython3",
   "version": "3.9.12"
  }
 },
 "nbformat": 4,
 "nbformat_minor": 5
}
