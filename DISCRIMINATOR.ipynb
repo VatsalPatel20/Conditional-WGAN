{
 "cells": [
  {
   "cell_type": "code",
   "execution_count": null,
   "id": "2ce2d262",
   "metadata": {},
   "outputs": [],
   "source": [
    "import torch\n",
    "import torch.nn as nn"
   ]
  },
  {
   "cell_type": "code",
   "execution_count": null,
   "id": "55668817",
   "metadata": {},
   "outputs": [],
   "source": [
    "class Discriminator(nn.Module):\n",
    "    def __init__(self,channel_img,feature_d,num_classes,img_size):\n",
    "        super().__init__()\n",
    "        self.img_size=img_size\n",
    "        self.disc=nn.Sequential(\n",
    "                nn.Conv2d(channel_img+1,feature_d,kernel_size=4,stride=2,padding=1),\n",
    "                nn.LeakyReLU(0.2),\n",
    "                self._block(feature_d,feature_d*2,4,2,1),\n",
    "                self._block(feature_d*2,feature_d*4,4,2,1),\n",
    "                self._block(feature_d*4,feature_d*8,4,2,1),\n",
    "                nn.Conv2d(feature_d*8,1,4,2,0))\n",
    "        self.embed=nn.Embedding(num_classes,img_size*img_size)\n",
    "        \n",
    "    def _block(self,in_channel,out_channel,kernel,stride,padding):\n",
    "        return nn.Sequential(\n",
    "                nn.Conv2d(in_channel,out_channel,kernel,stride,padding),\n",
    "                nn.InstanceNorm2d(out_channel),\n",
    "                 nn.LeakyReLU(0.1),)\n",
    "    \n",
    "    def forward(self,x,labels):\n",
    "        embedding=self.embed(labels).view(labels.shape[0],1,self.img_size,self.img_size)\n",
    "        x=torch.cat([x,embedding],dim=1)\n",
    "        return self.disc(x)"
   ]
  },
  {
   "cell_type": "code",
   "execution_count": null,
   "id": "1fa10bdd",
   "metadata": {},
   "outputs": [],
   "source": []
  }
 ],
 "metadata": {
  "kernelspec": {
   "display_name": "Python 3 (ipykernel)",
   "language": "python",
   "name": "python3"
  },
  "language_info": {
   "codemirror_mode": {
    "name": "ipython",
    "version": 3
   },
   "file_extension": ".py",
   "mimetype": "text/x-python",
   "name": "python",
   "nbconvert_exporter": "python",
   "pygments_lexer": "ipython3",
   "version": "3.9.12"
  }
 },
 "nbformat": 4,
 "nbformat_minor": 5
}
